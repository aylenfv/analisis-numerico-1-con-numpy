{
 "cells": [
  {
   "cell_type": "code",
   "execution_count": 1,
   "metadata": {},
   "outputs": [],
   "source": [
    "import numpy as np"
   ]
  },
  {
   "cell_type": "code",
   "execution_count": 2,
   "id": "279e9a0d",
   "metadata": {},
   "outputs": [],
   "source": [
    "url = 'https://gist.githubusercontent.com/ahcamachod/9be09de793dc3bf1e6c3d98eb4e5b1ef/raw/21b85572693200040e11284ef6dcfc3457ec8e11/citrus.csv'"
   ]
  },
  {
   "cell_type": "code",
   "execution_count": 3,
   "id": "2b5247df",
   "metadata": {},
   "outputs": [],
   "source": [
    "datosNaranjas = np.loadtxt(url,delimiter=',',usecols=np.arange(1,6,1), skiprows=1, max_rows=5000)"
   ]
  },
  {
   "cell_type": "code",
   "execution_count": 6,
   "id": "1f820073",
   "metadata": {},
   "outputs": [
    {
     "data": {
      "text/plain": [
       "(5000, 5)"
      ]
     },
     "execution_count": 6,
     "metadata": {},
     "output_type": "execute_result"
    }
   ],
   "source": [
    "datosNaranjas.shape"
   ]
  },
  {
   "cell_type": "code",
   "execution_count": 7,
   "id": "a630a566",
   "metadata": {},
   "outputs": [],
   "source": [
    "datosToronjas = np.loadtxt(url,delimiter=',',usecols=np.arange(1,6,1), skiprows=5001, max_rows=5000)"
   ]
  },
  {
   "cell_type": "code",
   "execution_count": 8,
   "id": "2b0c83eb",
   "metadata": {},
   "outputs": [
    {
     "data": {
      "text/plain": [
       "(5000, 5)"
      ]
     },
     "execution_count": 8,
     "metadata": {},
     "output_type": "execute_result"
    }
   ],
   "source": [
    "datosToronjas.shape"
   ]
  },
  {
   "cell_type": "code",
   "execution_count": null,
   "id": "6f8d4982",
   "metadata": {},
   "outputs": [],
   "source": []
  }
 ],
 "metadata": {
  "kernelspec": {
   "display_name": "Python 3",
   "language": "python",
   "name": "python3"
  },
  "language_info": {
   "codemirror_mode": {
    "name": "ipython",
    "version": 3
   },
   "file_extension": ".py",
   "mimetype": "text/x-python",
   "name": "python",
   "nbconvert_exporter": "python",
   "pygments_lexer": "ipython3",
   "version": "3.12.3"
  }
 },
 "nbformat": 4,
 "nbformat_minor": 5
}
