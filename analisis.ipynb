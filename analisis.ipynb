{
 "cells": [
  {
   "cell_type": "code",
   "execution_count": 1,
   "metadata": {},
   "outputs": [],
   "source": [
    "import numpy as np"
   ]
  },
  {
   "cell_type": "code",
   "execution_count": 2,
   "id": "279e9a0d",
   "metadata": {},
   "outputs": [],
   "source": [
    "url = 'https://gist.githubusercontent.com/ahcamachod/9be09de793dc3bf1e6c3d98eb4e5b1ef/raw/21b85572693200040e11284ef6dcfc3457ec8e11/citrus.csv'"
   ]
  },
  {
   "cell_type": "code",
   "execution_count": 3,
   "id": "2b5247df",
   "metadata": {},
   "outputs": [],
   "source": [
    "datosNaranjas = np.loadtxt(url,delimiter=',',usecols=np.arange(1,6,1), skiprows=1, max_rows=5000)"
   ]
  },
  {
   "cell_type": "code",
   "execution_count": 6,
   "id": "1f820073",
   "metadata": {},
   "outputs": [
    {
     "data": {
      "text/plain": [
       "(5000, 5)"
      ]
     },
     "execution_count": 6,
     "metadata": {},
     "output_type": "execute_result"
    }
   ],
   "source": [
    "datosNaranjas.shape"
   ]
  },
  {
   "cell_type": "code",
   "execution_count": 7,
   "id": "a630a566",
   "metadata": {},
   "outputs": [],
   "source": [
    "datosToronjas = np.loadtxt(url,delimiter=',',usecols=np.arange(1,6,1), skiprows=5001, max_rows=5000)"
   ]
  },
  {
   "cell_type": "code",
   "execution_count": 8,
   "id": "2b0c83eb",
   "metadata": {},
   "outputs": [
    {
     "data": {
      "text/plain": [
       "(5000, 5)"
      ]
     },
     "execution_count": 8,
     "metadata": {},
     "output_type": "execute_result"
    }
   ],
   "source": [
    "datosToronjas.shape"
   ]
  },
  {
   "cell_type": "code",
   "execution_count": 10,
   "id": "6f8d4982",
   "metadata": {},
   "outputs": [
    {
     "data": {
      "text/plain": [
       "array([[  2.96,  86.76, 172.  ,  85.  ,   2.  ],\n",
       "       [  3.91,  88.05, 166.  ,  78.  ,   3.  ],\n",
       "       [  4.42,  95.17, 156.  ,  81.  ,   2.  ],\n",
       "       ...,\n",
       "       [ 12.55, 218.07, 143.  ,  77.  ,   4.  ],\n",
       "       [ 12.75, 230.13, 159.  ,  87.  ,   5.  ],\n",
       "       [ 12.87, 231.09, 158.  ,  86.  ,  17.  ]])"
      ]
     },
     "execution_count": 10,
     "metadata": {},
     "output_type": "execute_result"
    }
   ],
   "source": [
    "datosNaranjas"
   ]
  },
  {
   "cell_type": "code",
   "execution_count": 11,
   "id": "cc3b4a4c",
   "metadata": {},
   "outputs": [],
   "source": [
    "diametroNaranjas = datosNaranjas[:,0]\n",
    "pesoNaranjas = datosNaranjas[:,1]\n",
    "diametroToronjas = datosToronjas[:,0]\n",
    "pesoToronjas = datosToronjas[:,1]"
   ]
  },
  {
   "cell_type": "code",
   "execution_count": 12,
   "id": "4d94eb05",
   "metadata": {},
   "outputs": [
    {
     "data": {
      "text/plain": [
       "(5000,)"
      ]
     },
     "execution_count": 12,
     "metadata": {},
     "output_type": "execute_result"
    }
   ],
   "source": [
    "diametroNaranjas.shape"
   ]
  },
  {
   "cell_type": "code",
   "execution_count": 14,
   "id": "7cbbb6fe",
   "metadata": {},
   "outputs": [],
   "source": [
    "import matplotlib.pyplot as plt"
   ]
  },
  {
   "cell_type": "code",
   "execution_count": null,
   "id": "8a11325b",
   "metadata": {},
   "outputs": [
    {
     "data": {
      "text/plain": [
       "<matplotlib.legend.Legend at 0x1a401d4d790>"
      ]
     },
     "execution_count": 15,
     "metadata": {},
     "output_type": "execute_result"
    },
    {
     "data": {
      "image/png": "[encoded data removed]",
      "text/plain": [
       "<Figure size 640x480 with 1 Axes>"
      ]
     },
     "metadata": {},
     "output_type": "display_data"
    }
   ],
   "source": [
    "plt.plot(diametroNaranjas, pesoNaranjas)\n",
    "plt.plot(diametroToronjas,pesoToronjas)\n",
    "plt.legend(['Naranjas','Toronjas'])"
   ]
  },
  {
   "cell_type": "code",
   "execution_count": 27,
   "id": "85269b06",
   "metadata": {},
   "outputs": [
    {
     "data": {
      "text/plain": [
       "0"
      ]
     },
     "execution_count": 27,
     "metadata": {},
     "output_type": "execute_result"
    }
   ],
   "source": [
    "np.sum(np.isnan(diametroNaranjas))"
   ]
  },
  {
   "cell_type": "code",
   "execution_count": 28,
   "id": "09cd8483",
   "metadata": {},
   "outputs": [
    {
     "data": {
      "text/plain": [
       "0"
      ]
     },
     "execution_count": 28,
     "metadata": {},
     "output_type": "execute_result"
    }
   ],
   "source": [
    "np.sum(np.isnan(diametroToronjas))"
   ]
  },
  {
   "cell_type": "code",
   "execution_count": 29,
   "id": "972f1d79",
   "metadata": {},
   "outputs": [
    {
     "data": {
      "text/plain": [
       "0"
      ]
     },
     "execution_count": 29,
     "metadata": {},
     "output_type": "execute_result"
    }
   ],
   "source": [
    "np.sum(np.isnan(pesoToronjas))"
   ]
  },
  {
   "cell_type": "code",
   "execution_count": 30,
   "id": "72c6230e",
   "metadata": {},
   "outputs": [
    {
     "data": {
      "text/plain": [
       "0"
      ]
     },
     "execution_count": 30,
     "metadata": {},
     "output_type": "execute_result"
    }
   ],
   "source": [
    "np.sum(np.isnan(pesoNaranjas))"
   ]
  },
  {
   "cell_type": "code",
   "execution_count": null,
   "id": "694235ba",
   "metadata": {},
   "outputs": [],
   "source": [
    "   "
   ]
  }
 ],
 "metadata": {
  "kernelspec": {
   "display_name": "Python 3",
   "language": "python",
   "name": "python3"
  },
  "language_info": {
   "codemirror_mode": {
    "name": "ipython",
    "version": 3
   },
   "file_extension": ".py",
   "mimetype": "text/x-python",
   "name": "python",
   "nbconvert_exporter": "python",
   "pygments_lexer": "ipython3",
   "version": "3.12.3"
  }
 },
 "nbformat": 4,
 "nbformat_minor": 5
}
